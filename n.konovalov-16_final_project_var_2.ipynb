{
 "cells": [
  {
   "cell_type": "markdown",
   "metadata": {},
   "source": [
    "# Проект: вариант 2\n",
    "***\n",
    "# Задание 1. A/B–тестирование\n",
    "***\n",
    "### 1.1 Условие\n",
    "\n",
    "Одной из основных задач аналитика в нашей команде является корректное проведение экспериментов. Для этого мы применяем метод A/B–тестирования. В ходе тестирования одной гипотезы целевой группе была предложена новая механика оплаты услуг на сайте, у контрольной группы оставалась базовая механика. В качестве задания Вам необходимо проанализировать итоги эксперимента и сделать вывод, стоит ли запускать новую механику оплаты на всех пользователей.\n",
    "\n",
    "### 1.2 Входные данные\n",
    "\n",
    "В качестве входных данных Вы имеете 4 csv-файла:\n",
    "\n",
    "- groups.csv - файл с информацией о принадлежности пользователя к контрольной или экспериментальной группе (А – контроль, B – целевая группа)\n",
    "- groups_add.csv - дополнительный файл с пользователями, который вам прислали спустя 2 дня после передачи данных.\n",
    "- active_studs.csv - файл с информацией о пользователях, которые зашли на платформу в дни проведения эксперимента.\n",
    "- checks.csv - файл с информацией об оплатах пользователей в дни проведения эксперимента. \n",
    "\n",
    "### 1.3 Вопросы\n",
    "\n",
    "Предлагаем Вам ответить на следующие вопросы:\n",
    "\n",
    "- На какие метрики Вы смотрите в ходе анализа и почему?\n",
    "- Имеются ли различия в показателях и с чем они могут быть связаны?\n",
    "- Являются ли эти различия статистически значимыми?\n",
    "- Стоит ли запускать новую механику на всех пользователей?\n",
    "- Данный список вопросов не является обязательным, и Вы можете при своём ответе опираться на собственный план.\n",
    "\n",
    "### 1.4 Требования к ответу\n",
    "\n",
    "При выполнении тестового задания необходимо использовать язык программирования Python. \n",
    "В файле обязательно должны быть комментарии к тем действиям, которые Вы выполняете с данными. \n",
    "Файл должен представлять собой законченный отчёт с выводами, сделанными в ходе исследования."
   ]
  },
  {
   "cell_type": "code",
   "execution_count": 1,
   "metadata": {},
   "outputs": [],
   "source": [
    "# Подключение требуемых библиотек\n",
    "import numpy as np\n",
    "import pandas as pd\n",
    "import seaborn as sns\n",
    "%matplotlib inline\n",
    "import matplotlib.pyplot as plt\n",
    "import scipy.stats as ss\n",
    "from tqdm.auto import tqdm"
   ]
  },
  {
   "cell_type": "code",
   "execution_count": 2,
   "metadata": {},
   "outputs": [],
   "source": [
    "# Загружаем данные\n",
    "url_base = 'https://getfile.dokpub.com/yandex/get/'\n",
    "url_groups = 'https://disk.yandex.ru/d/58Us0DWOzuWAjg'\n",
    "df_groups = pd.read_csv(url_base + url_groups, sep=';')\n",
    "url_active_studs = 'https://disk.yandex.ru/d/prbgU-rZpiXVYg'\n",
    "df_active_studs = pd.read_csv(url_base + url_active_studs, sep=';')\n",
    "url_checks = 'https://disk.yandex.ru/d/84hTmELphW2sqQ'\n",
    "df_checks = pd.read_csv(url_base + url_checks, sep=';')"
   ]
  },
  {
   "cell_type": "markdown",
   "metadata": {},
   "source": [
    "Посмотрим данные и их описательные параметры"
   ]
  },
  {
   "cell_type": "code",
   "execution_count": 3,
   "metadata": {},
   "outputs": [
    {
     "data": {
      "text/html": [
       "<div>\n",
       "<style scoped>\n",
       "    .dataframe tbody tr th:only-of-type {\n",
       "        vertical-align: middle;\n",
       "    }\n",
       "\n",
       "    .dataframe tbody tr th {\n",
       "        vertical-align: top;\n",
       "    }\n",
       "\n",
       "    .dataframe thead th {\n",
       "        text-align: right;\n",
       "    }\n",
       "</style>\n",
       "<table border=\"1\" class=\"dataframe\">\n",
       "  <thead>\n",
       "    <tr style=\"text-align: right;\">\n",
       "      <th></th>\n",
       "      <th>id</th>\n",
       "      <th>grp</th>\n",
       "    </tr>\n",
       "  </thead>\n",
       "  <tbody>\n",
       "    <tr>\n",
       "      <th>0</th>\n",
       "      <td>1489</td>\n",
       "      <td>B</td>\n",
       "    </tr>\n",
       "    <tr>\n",
       "      <th>1</th>\n",
       "      <td>1627</td>\n",
       "      <td>A</td>\n",
       "    </tr>\n",
       "    <tr>\n",
       "      <th>2</th>\n",
       "      <td>1768</td>\n",
       "      <td>B</td>\n",
       "    </tr>\n",
       "    <tr>\n",
       "      <th>3</th>\n",
       "      <td>1783</td>\n",
       "      <td>B</td>\n",
       "    </tr>\n",
       "    <tr>\n",
       "      <th>4</th>\n",
       "      <td>1794</td>\n",
       "      <td>A</td>\n",
       "    </tr>\n",
       "  </tbody>\n",
       "</table>\n",
       "</div>"
      ],
      "text/plain": [
       "     id grp\n",
       "0  1489   B\n",
       "1  1627   A\n",
       "2  1768   B\n",
       "3  1783   B\n",
       "4  1794   A"
      ]
     },
     "execution_count": 3,
     "metadata": {},
     "output_type": "execute_result"
    }
   ],
   "source": [
    "df_groups.head(5)"
   ]
  },
  {
   "cell_type": "code",
   "execution_count": 4,
   "metadata": {},
   "outputs": [
    {
     "data": {
      "text/plain": [
       "(74484, 2)"
      ]
     },
     "execution_count": 4,
     "metadata": {},
     "output_type": "execute_result"
    }
   ],
   "source": [
    "# проверка формы таблицы\n",
    "df_groups.shape"
   ]
  },
  {
   "cell_type": "code",
   "execution_count": 5,
   "metadata": {},
   "outputs": [
    {
     "data": {
      "text/plain": [
       "id     74484\n",
       "grp        2\n",
       "dtype: int64"
      ]
     },
     "execution_count": 5,
     "metadata": {},
     "output_type": "execute_result"
    }
   ],
   "source": [
    "# проверка количества уникальных значений\n",
    "df_groups.nunique()"
   ]
  },
  {
   "cell_type": "code",
   "execution_count": 6,
   "metadata": {},
   "outputs": [
    {
     "data": {
      "text/plain": [
       "B    59813\n",
       "A    14671\n",
       "Name: grp, dtype: int64"
      ]
     },
     "execution_count": 6,
     "metadata": {},
     "output_type": "execute_result"
    }
   ],
   "source": [
    "# распределение значений по группам\n",
    "df_groups.grp.value_counts()"
   ]
  },
  {
   "cell_type": "code",
   "execution_count": 7,
   "metadata": {},
   "outputs": [
    {
     "data": {
      "text/plain": [
       "B    80.3\n",
       "A    19.7\n",
       "Name: grp, dtype: float64"
      ]
     },
     "execution_count": 7,
     "metadata": {},
     "output_type": "execute_result"
    }
   ],
   "source": [
    "# распределение значений в процентах по группам\n",
    "(df_groups.grp.value_counts() * 100 / df_groups.shape[0]).round(2)"
   ]
  },
  {
   "cell_type": "code",
   "execution_count": 8,
   "metadata": {},
   "outputs": [
    {
     "data": {
      "text/plain": [
       "id     0\n",
       "grp    0\n",
       "dtype: int64"
      ]
     },
     "execution_count": 8,
     "metadata": {},
     "output_type": "execute_result"
    }
   ],
   "source": [
    "# наличие NaN значений\n",
    "df_groups.isna().sum()"
   ]
  },
  {
   "cell_type": "markdown",
   "metadata": {},
   "source": [
    "Как видно, в датафрейме df_groups все значения id уникальны, нет NaN значений, распределение по группам (контрольная/тестовая), приблизительно 1 к 4"
   ]
  },
  {
   "cell_type": "code",
   "execution_count": 9,
   "metadata": {},
   "outputs": [
    {
     "data": {
      "text/html": [
       "<div>\n",
       "<style scoped>\n",
       "    .dataframe tbody tr th:only-of-type {\n",
       "        vertical-align: middle;\n",
       "    }\n",
       "\n",
       "    .dataframe tbody tr th {\n",
       "        vertical-align: top;\n",
       "    }\n",
       "\n",
       "    .dataframe thead th {\n",
       "        text-align: right;\n",
       "    }\n",
       "</style>\n",
       "<table border=\"1\" class=\"dataframe\">\n",
       "  <thead>\n",
       "    <tr style=\"text-align: right;\">\n",
       "      <th></th>\n",
       "      <th>student_id</th>\n",
       "    </tr>\n",
       "  </thead>\n",
       "  <tbody>\n",
       "    <tr>\n",
       "      <th>0</th>\n",
       "      <td>581585</td>\n",
       "    </tr>\n",
       "    <tr>\n",
       "      <th>1</th>\n",
       "      <td>5723133</td>\n",
       "    </tr>\n",
       "    <tr>\n",
       "      <th>2</th>\n",
       "      <td>3276743</td>\n",
       "    </tr>\n",
       "    <tr>\n",
       "      <th>3</th>\n",
       "      <td>4238589</td>\n",
       "    </tr>\n",
       "    <tr>\n",
       "      <th>4</th>\n",
       "      <td>4475369</td>\n",
       "    </tr>\n",
       "  </tbody>\n",
       "</table>\n",
       "</div>"
      ],
      "text/plain": [
       "   student_id\n",
       "0      581585\n",
       "1     5723133\n",
       "2     3276743\n",
       "3     4238589\n",
       "4     4475369"
      ]
     },
     "execution_count": 9,
     "metadata": {},
     "output_type": "execute_result"
    }
   ],
   "source": [
    "df_active_studs.head(5)"
   ]
  },
  {
   "cell_type": "code",
   "execution_count": 10,
   "metadata": {},
   "outputs": [
    {
     "data": {
      "text/plain": [
       "(8341, 1)"
      ]
     },
     "execution_count": 10,
     "metadata": {},
     "output_type": "execute_result"
    }
   ],
   "source": [
    "# проверка формы таблицы\n",
    "df_active_studs.shape"
   ]
  },
  {
   "cell_type": "code",
   "execution_count": 11,
   "metadata": {},
   "outputs": [
    {
     "data": {
      "text/plain": [
       "student_id    8341\n",
       "dtype: int64"
      ]
     },
     "execution_count": 11,
     "metadata": {},
     "output_type": "execute_result"
    }
   ],
   "source": [
    "# проверка количества уникальных значений\n",
    "df_active_studs.nunique()"
   ]
  },
  {
   "cell_type": "code",
   "execution_count": 12,
   "metadata": {},
   "outputs": [
    {
     "data": {
      "text/plain": [
       "student_id    0\n",
       "dtype: int64"
      ]
     },
     "execution_count": 12,
     "metadata": {},
     "output_type": "execute_result"
    }
   ],
   "source": [
    "# наличие NaN значений\n",
    "df_active_studs.isna().sum()"
   ]
  },
  {
   "cell_type": "markdown",
   "metadata": {},
   "source": [
    "В датафрейме df_active_studs все значения id уникальны и нет NaN значений"
   ]
  },
  {
   "cell_type": "code",
   "execution_count": 13,
   "metadata": {},
   "outputs": [
    {
     "data": {
      "text/html": [
       "<div>\n",
       "<style scoped>\n",
       "    .dataframe tbody tr th:only-of-type {\n",
       "        vertical-align: middle;\n",
       "    }\n",
       "\n",
       "    .dataframe tbody tr th {\n",
       "        vertical-align: top;\n",
       "    }\n",
       "\n",
       "    .dataframe thead th {\n",
       "        text-align: right;\n",
       "    }\n",
       "</style>\n",
       "<table border=\"1\" class=\"dataframe\">\n",
       "  <thead>\n",
       "    <tr style=\"text-align: right;\">\n",
       "      <th></th>\n",
       "      <th>student_id</th>\n",
       "      <th>rev</th>\n",
       "    </tr>\n",
       "  </thead>\n",
       "  <tbody>\n",
       "    <tr>\n",
       "      <th>0</th>\n",
       "      <td>1627</td>\n",
       "      <td>990.0</td>\n",
       "    </tr>\n",
       "    <tr>\n",
       "      <th>1</th>\n",
       "      <td>3185</td>\n",
       "      <td>690.0</td>\n",
       "    </tr>\n",
       "    <tr>\n",
       "      <th>2</th>\n",
       "      <td>25973</td>\n",
       "      <td>690.0</td>\n",
       "    </tr>\n",
       "    <tr>\n",
       "      <th>3</th>\n",
       "      <td>26280</td>\n",
       "      <td>690.0</td>\n",
       "    </tr>\n",
       "    <tr>\n",
       "      <th>4</th>\n",
       "      <td>100300</td>\n",
       "      <td>990.0</td>\n",
       "    </tr>\n",
       "  </tbody>\n",
       "</table>\n",
       "</div>"
      ],
      "text/plain": [
       "   student_id    rev\n",
       "0        1627  990.0\n",
       "1        3185  690.0\n",
       "2       25973  690.0\n",
       "3       26280  690.0\n",
       "4      100300  990.0"
      ]
     },
     "execution_count": 13,
     "metadata": {},
     "output_type": "execute_result"
    }
   ],
   "source": [
    "df_checks.head(5)"
   ]
  },
  {
   "cell_type": "code",
   "execution_count": 14,
   "metadata": {},
   "outputs": [
    {
     "data": {
      "text/plain": [
       "(541, 2)"
      ]
     },
     "execution_count": 14,
     "metadata": {},
     "output_type": "execute_result"
    }
   ],
   "source": [
    "# проверка формы таблицы\n",
    "df_checks.shape"
   ]
  },
  {
   "cell_type": "code",
   "execution_count": 15,
   "metadata": {},
   "outputs": [
    {
     "data": {
      "text/html": [
       "<div>\n",
       "<style scoped>\n",
       "    .dataframe tbody tr th:only-of-type {\n",
       "        vertical-align: middle;\n",
       "    }\n",
       "\n",
       "    .dataframe tbody tr th {\n",
       "        vertical-align: top;\n",
       "    }\n",
       "\n",
       "    .dataframe thead th {\n",
       "        text-align: right;\n",
       "    }\n",
       "</style>\n",
       "<table border=\"1\" class=\"dataframe\">\n",
       "  <thead>\n",
       "    <tr style=\"text-align: right;\">\n",
       "      <th></th>\n",
       "      <th>student_id</th>\n",
       "      <th>rev</th>\n",
       "    </tr>\n",
       "  </thead>\n",
       "  <tbody>\n",
       "    <tr>\n",
       "      <th>count</th>\n",
       "      <td>5.410000e+02</td>\n",
       "      <td>541.000000</td>\n",
       "    </tr>\n",
       "    <tr>\n",
       "      <th>mean</th>\n",
       "      <td>2.514772e+06</td>\n",
       "      <td>1059.752317</td>\n",
       "    </tr>\n",
       "    <tr>\n",
       "      <th>std</th>\n",
       "      <td>1.726839e+06</td>\n",
       "      <td>762.712359</td>\n",
       "    </tr>\n",
       "    <tr>\n",
       "      <th>min</th>\n",
       "      <td>1.627000e+03</td>\n",
       "      <td>199.000000</td>\n",
       "    </tr>\n",
       "    <tr>\n",
       "      <th>25%</th>\n",
       "      <td>9.871290e+05</td>\n",
       "      <td>290.000000</td>\n",
       "    </tr>\n",
       "    <tr>\n",
       "      <th>50%</th>\n",
       "      <td>2.526021e+06</td>\n",
       "      <td>840.000000</td>\n",
       "    </tr>\n",
       "    <tr>\n",
       "      <th>75%</th>\n",
       "      <td>3.993249e+06</td>\n",
       "      <td>1900.000000</td>\n",
       "    </tr>\n",
       "    <tr>\n",
       "      <th>max</th>\n",
       "      <td>5.740903e+06</td>\n",
       "      <td>4650.000000</td>\n",
       "    </tr>\n",
       "  </tbody>\n",
       "</table>\n",
       "</div>"
      ],
      "text/plain": [
       "         student_id          rev\n",
       "count  5.410000e+02   541.000000\n",
       "mean   2.514772e+06  1059.752317\n",
       "std    1.726839e+06   762.712359\n",
       "min    1.627000e+03   199.000000\n",
       "25%    9.871290e+05   290.000000\n",
       "50%    2.526021e+06   840.000000\n",
       "75%    3.993249e+06  1900.000000\n",
       "max    5.740903e+06  4650.000000"
      ]
     },
     "execution_count": 15,
     "metadata": {},
     "output_type": "execute_result"
    }
   ],
   "source": [
    "# описательные статистики числовых значений\n",
    "df_checks.describe()"
   ]
  },
  {
   "cell_type": "code",
   "execution_count": 16,
   "metadata": {},
   "outputs": [
    {
     "data": {
      "text/plain": [
       "student_id    541\n",
       "rev            39\n",
       "dtype: int64"
      ]
     },
     "execution_count": 16,
     "metadata": {},
     "output_type": "execute_result"
    }
   ],
   "source": [
    "# проверка количества уникальных значений\n",
    "df_checks.nunique()"
   ]
  },
  {
   "cell_type": "code",
   "execution_count": 17,
   "metadata": {},
   "outputs": [
    {
     "data": {
      "text/plain": [
       "student_id    0\n",
       "rev           0\n",
       "dtype: int64"
      ]
     },
     "execution_count": 17,
     "metadata": {},
     "output_type": "execute_result"
    }
   ],
   "source": [
    "# наличие NaN значений\n",
    "df_checks.isna().sum()"
   ]
  },
  {
   "cell_type": "markdown",
   "metadata": {},
   "source": [
    "В датафрейме df_checks все значения id уникальны и нет NaN значений\n",
    "\n",
    "## Подготовка данных\n",
    "***\n",
    "Далее объединим таблицу с разделением на группы с таблицами чеков и активности юзеров"
   ]
  },
  {
   "cell_type": "code",
   "execution_count": 18,
   "metadata": {},
   "outputs": [],
   "source": [
    "# но прежде приведем в соотвествие название айди студентов во всех датафреймах\n",
    "df_list = [df_active_studs, df_checks]\n",
    "for i in df_list:\n",
    "    i.rename(columns={'student_id': 'id'}, inplace=True)"
   ]
  },
  {
   "cell_type": "code",
   "execution_count": 19,
   "metadata": {},
   "outputs": [
    {
     "data": {
      "text/html": [
       "<div>\n",
       "<style scoped>\n",
       "    .dataframe tbody tr th:only-of-type {\n",
       "        vertical-align: middle;\n",
       "    }\n",
       "\n",
       "    .dataframe tbody tr th {\n",
       "        vertical-align: top;\n",
       "    }\n",
       "\n",
       "    .dataframe thead th {\n",
       "        text-align: right;\n",
       "    }\n",
       "</style>\n",
       "<table border=\"1\" class=\"dataframe\">\n",
       "  <thead>\n",
       "    <tr style=\"text-align: right;\">\n",
       "      <th></th>\n",
       "      <th>id</th>\n",
       "      <th>grp</th>\n",
       "    </tr>\n",
       "  </thead>\n",
       "  <tbody>\n",
       "    <tr>\n",
       "      <th>0</th>\n",
       "      <td>581585</td>\n",
       "      <td>A</td>\n",
       "    </tr>\n",
       "    <tr>\n",
       "      <th>1</th>\n",
       "      <td>5723133</td>\n",
       "      <td>NaN</td>\n",
       "    </tr>\n",
       "    <tr>\n",
       "      <th>2</th>\n",
       "      <td>3276743</td>\n",
       "      <td>B</td>\n",
       "    </tr>\n",
       "    <tr>\n",
       "      <th>3</th>\n",
       "      <td>4238589</td>\n",
       "      <td>A</td>\n",
       "    </tr>\n",
       "    <tr>\n",
       "      <th>4</th>\n",
       "      <td>4475369</td>\n",
       "      <td>B</td>\n",
       "    </tr>\n",
       "  </tbody>\n",
       "</table>\n",
       "</div>"
      ],
      "text/plain": [
       "        id  grp\n",
       "0   581585    A\n",
       "1  5723133  NaN\n",
       "2  3276743    B\n",
       "3  4238589    A\n",
       "4  4475369    B"
      ]
     },
     "execution_count": 19,
     "metadata": {},
     "output_type": "execute_result"
    }
   ],
   "source": [
    "# объединение датафреймов активных пользователей и разделение на группы\n",
    "df_active_groups = df_active_studs.merge(df_groups, how='left', on='id')\n",
    "df_active_groups.head(5)"
   ]
  },
  {
   "cell_type": "code",
   "execution_count": 20,
   "metadata": {},
   "outputs": [
    {
     "data": {
      "text/plain": [
       "(8341, 2)"
      ]
     },
     "execution_count": 20,
     "metadata": {},
     "output_type": "execute_result"
    }
   ],
   "source": [
    "df_active_groups.shape"
   ]
  },
  {
   "cell_type": "markdown",
   "metadata": {},
   "source": [
    "В списке активных пользователей присутствуют те, которые не относятся ни к контрольной, ни к тестовой группе. Для корректного проведения теста и его интерпритации не будем их учитывать"
   ]
  },
  {
   "cell_type": "code",
   "execution_count": 21,
   "metadata": {},
   "outputs": [],
   "source": [
    "df_active_groups.dropna(inplace=True)"
   ]
  },
  {
   "cell_type": "code",
   "execution_count": 22,
   "metadata": {},
   "outputs": [
    {
     "data": {
      "text/plain": [
       "(8328, 2)"
      ]
     },
     "execution_count": 22,
     "metadata": {},
     "output_type": "execute_result"
    }
   ],
   "source": [
    "# проверяем изменение в размере фрейма\n",
    "df_active_groups.shape"
   ]
  },
  {
   "cell_type": "code",
   "execution_count": 23,
   "metadata": {},
   "outputs": [
    {
     "data": {
      "text/html": [
       "<div>\n",
       "<style scoped>\n",
       "    .dataframe tbody tr th:only-of-type {\n",
       "        vertical-align: middle;\n",
       "    }\n",
       "\n",
       "    .dataframe tbody tr th {\n",
       "        vertical-align: top;\n",
       "    }\n",
       "\n",
       "    .dataframe thead th {\n",
       "        text-align: right;\n",
       "    }\n",
       "</style>\n",
       "<table border=\"1\" class=\"dataframe\">\n",
       "  <thead>\n",
       "    <tr style=\"text-align: right;\">\n",
       "      <th></th>\n",
       "      <th>id</th>\n",
       "      <th>rev</th>\n",
       "      <th>grp</th>\n",
       "    </tr>\n",
       "  </thead>\n",
       "  <tbody>\n",
       "    <tr>\n",
       "      <th>0</th>\n",
       "      <td>1627</td>\n",
       "      <td>990.0</td>\n",
       "      <td>A</td>\n",
       "    </tr>\n",
       "    <tr>\n",
       "      <th>1</th>\n",
       "      <td>3185</td>\n",
       "      <td>690.0</td>\n",
       "      <td>B</td>\n",
       "    </tr>\n",
       "    <tr>\n",
       "      <th>2</th>\n",
       "      <td>25973</td>\n",
       "      <td>690.0</td>\n",
       "      <td>B</td>\n",
       "    </tr>\n",
       "    <tr>\n",
       "      <th>3</th>\n",
       "      <td>26280</td>\n",
       "      <td>690.0</td>\n",
       "      <td>B</td>\n",
       "    </tr>\n",
       "    <tr>\n",
       "      <th>4</th>\n",
       "      <td>100300</td>\n",
       "      <td>990.0</td>\n",
       "      <td>B</td>\n",
       "    </tr>\n",
       "  </tbody>\n",
       "</table>\n",
       "</div>"
      ],
      "text/plain": [
       "       id    rev grp\n",
       "0    1627  990.0   A\n",
       "1    3185  690.0   B\n",
       "2   25973  690.0   B\n",
       "3   26280  690.0   B\n",
       "4  100300  990.0   B"
      ]
     },
     "execution_count": 23,
     "metadata": {},
     "output_type": "execute_result"
    }
   ],
   "source": [
    "# объединение датафреймов оплат пользователей и разделение на группы\n",
    "df_checks_groups = df_checks.merge(df_groups, how='left', on='id')\n",
    "df_checks_groups.head(5)"
   ]
  },
  {
   "cell_type": "code",
   "execution_count": 24,
   "metadata": {},
   "outputs": [
    {
     "data": {
      "text/plain": [
       "(541, 3)"
      ]
     },
     "execution_count": 24,
     "metadata": {},
     "output_type": "execute_result"
    }
   ],
   "source": [
    "df_checks_groups.shape"
   ]
  },
  {
   "cell_type": "code",
   "execution_count": 25,
   "metadata": {},
   "outputs": [
    {
     "data": {
      "text/plain": [
       "id     0\n",
       "rev    0\n",
       "grp    1\n",
       "dtype: int64"
      ]
     },
     "execution_count": 25,
     "metadata": {},
     "output_type": "execute_result"
    }
   ],
   "source": [
    "# проверяем NaN значения\n",
    "df_checks_groups.isna().sum()"
   ]
  },
  {
   "cell_type": "code",
   "execution_count": 26,
   "metadata": {},
   "outputs": [],
   "source": [
    "# и так же, оставляем только тех пользователей, что участвуют в эксперименте\n",
    "df_checks_groups.dropna(inplace=True)"
   ]
  },
  {
   "cell_type": "code",
   "execution_count": 27,
   "metadata": {},
   "outputs": [
    {
     "data": {
      "text/plain": [
       "(540, 3)"
      ]
     },
     "execution_count": 27,
     "metadata": {},
     "output_type": "execute_result"
    }
   ],
   "source": [
    "df_checks_groups.shape"
   ]
  },
  {
   "cell_type": "code",
   "execution_count": 28,
   "metadata": {},
   "outputs": [
    {
     "data": {
      "text/html": [
       "<div>\n",
       "<style scoped>\n",
       "    .dataframe tbody tr th:only-of-type {\n",
       "        vertical-align: middle;\n",
       "    }\n",
       "\n",
       "    .dataframe tbody tr th {\n",
       "        vertical-align: top;\n",
       "    }\n",
       "\n",
       "    .dataframe thead th {\n",
       "        text-align: right;\n",
       "    }\n",
       "</style>\n",
       "<table border=\"1\" class=\"dataframe\">\n",
       "  <thead>\n",
       "    <tr style=\"text-align: right;\">\n",
       "      <th></th>\n",
       "      <th>id</th>\n",
       "      <th>grp</th>\n",
       "      <th>rev</th>\n",
       "    </tr>\n",
       "  </thead>\n",
       "  <tbody>\n",
       "    <tr>\n",
       "      <th>0</th>\n",
       "      <td>581585</td>\n",
       "      <td>A</td>\n",
       "      <td>NaN</td>\n",
       "    </tr>\n",
       "    <tr>\n",
       "      <th>1</th>\n",
       "      <td>3276743</td>\n",
       "      <td>B</td>\n",
       "      <td>NaN</td>\n",
       "    </tr>\n",
       "    <tr>\n",
       "      <th>2</th>\n",
       "      <td>4238589</td>\n",
       "      <td>A</td>\n",
       "      <td>NaN</td>\n",
       "    </tr>\n",
       "    <tr>\n",
       "      <th>3</th>\n",
       "      <td>4475369</td>\n",
       "      <td>B</td>\n",
       "      <td>NaN</td>\n",
       "    </tr>\n",
       "    <tr>\n",
       "      <th>4</th>\n",
       "      <td>5481015</td>\n",
       "      <td>B</td>\n",
       "      <td>NaN</td>\n",
       "    </tr>\n",
       "  </tbody>\n",
       "</table>\n",
       "</div>"
      ],
      "text/plain": [
       "        id grp  rev\n",
       "0   581585   A  NaN\n",
       "1  3276743   B  NaN\n",
       "2  4238589   A  NaN\n",
       "3  4475369   B  NaN\n",
       "4  5481015   B  NaN"
      ]
     },
     "execution_count": 28,
     "metadata": {},
     "output_type": "execute_result"
    }
   ],
   "source": [
    "# теперь объединим получившиеся таблицы left join'ом, чтобы сохранить данные по всем активным пользователям\n",
    "df_active_checks = df_active_groups.merge(df_checks_groups, how='left', on=['id', 'grp'])\n",
    "df_active_checks.head(5)"
   ]
  },
  {
   "cell_type": "code",
   "execution_count": 29,
   "metadata": {},
   "outputs": [
    {
     "data": {
      "text/plain": [
       "id     8328\n",
       "grp    8328\n",
       "rev     391\n",
       "dtype: int64"
      ]
     },
     "execution_count": 29,
     "metadata": {},
     "output_type": "execute_result"
    }
   ],
   "source": [
    "# проверим, не удалились ли данные после merge\n",
    "df_active_checks.count()"
   ]
  },
  {
   "cell_type": "markdown",
   "metadata": {},
   "source": [
    "Как видим, значений оплат в результирующей таблице меньше, чем в df_checks_groups. Это могло произойти, по причине отсутствия части id платящих пользователей в списке активных пользователей. Возможно дело в алгоритме, определяющем активность пользователей. Так как этими данными нельзя пренебрегать, внесем id этих пользователей в список активных"
   ]
  },
  {
   "cell_type": "code",
   "execution_count": 30,
   "metadata": {},
   "outputs": [
    {
     "data": {
      "text/html": [
       "<div>\n",
       "<style scoped>\n",
       "    .dataframe tbody tr th:only-of-type {\n",
       "        vertical-align: middle;\n",
       "    }\n",
       "\n",
       "    .dataframe tbody tr th {\n",
       "        vertical-align: top;\n",
       "    }\n",
       "\n",
       "    .dataframe thead th {\n",
       "        text-align: right;\n",
       "    }\n",
       "</style>\n",
       "<table border=\"1\" class=\"dataframe\">\n",
       "  <thead>\n",
       "    <tr style=\"text-align: right;\">\n",
       "      <th></th>\n",
       "      <th>id</th>\n",
       "      <th>grp</th>\n",
       "      <th>rev</th>\n",
       "    </tr>\n",
       "  </thead>\n",
       "  <tbody>\n",
       "    <tr>\n",
       "      <th>0</th>\n",
       "      <td>581585</td>\n",
       "      <td>A</td>\n",
       "      <td>NaN</td>\n",
       "    </tr>\n",
       "    <tr>\n",
       "      <th>1</th>\n",
       "      <td>3276743</td>\n",
       "      <td>B</td>\n",
       "      <td>NaN</td>\n",
       "    </tr>\n",
       "    <tr>\n",
       "      <th>2</th>\n",
       "      <td>4238589</td>\n",
       "      <td>A</td>\n",
       "      <td>NaN</td>\n",
       "    </tr>\n",
       "    <tr>\n",
       "      <th>3</th>\n",
       "      <td>4475369</td>\n",
       "      <td>B</td>\n",
       "      <td>NaN</td>\n",
       "    </tr>\n",
       "    <tr>\n",
       "      <th>4</th>\n",
       "      <td>5481015</td>\n",
       "      <td>B</td>\n",
       "      <td>NaN</td>\n",
       "    </tr>\n",
       "  </tbody>\n",
       "</table>\n",
       "</div>"
      ],
      "text/plain": [
       "        id grp  rev\n",
       "0   581585   A  NaN\n",
       "1  3276743   B  NaN\n",
       "2  4238589   A  NaN\n",
       "3  4475369   B  NaN\n",
       "4  5481015   B  NaN"
      ]
     },
     "execution_count": 30,
     "metadata": {},
     "output_type": "execute_result"
    }
   ],
   "source": [
    "df_active_checks_new = df_active_groups.merge(df_checks_groups, how='outer', on=['id', 'grp'])\n",
    "df_active_checks_new.head(5)"
   ]
  },
  {
   "cell_type": "markdown",
   "metadata": {},
   "source": [
    "Проверим количество строк, уникальных значений и NaN значений"
   ]
  },
  {
   "cell_type": "code",
   "execution_count": 31,
   "metadata": {},
   "outputs": [
    {
     "data": {
      "text/plain": [
       "id     8477\n",
       "grp    8477\n",
       "rev     540\n",
       "dtype: int64"
      ]
     },
     "execution_count": 31,
     "metadata": {},
     "output_type": "execute_result"
    }
   ],
   "source": [
    "df_active_checks_new.count()"
   ]
  },
  {
   "cell_type": "code",
   "execution_count": 32,
   "metadata": {},
   "outputs": [
    {
     "data": {
      "text/plain": [
       "id     8477\n",
       "grp       2\n",
       "rev      39\n",
       "dtype: int64"
      ]
     },
     "execution_count": 32,
     "metadata": {},
     "output_type": "execute_result"
    }
   ],
   "source": [
    "df_active_checks_new.nunique()"
   ]
  },
  {
   "cell_type": "code",
   "execution_count": 33,
   "metadata": {},
   "outputs": [
    {
     "data": {
      "text/plain": [
       "id        0\n",
       "grp       0\n",
       "rev    7937\n",
       "dtype: int64"
      ]
     },
     "execution_count": 33,
     "metadata": {},
     "output_type": "execute_result"
    }
   ],
   "source": [
    "df_active_checks_new.isna().sum()"
   ]
  },
  {
   "cell_type": "markdown",
   "metadata": {},
   "source": [
    "Как видно, разница между id и rev равна количеству NaN значений, значит датафрейм составлен верно. Далее разобъем его на группы"
   ]
  },
  {
   "cell_type": "code",
   "execution_count": 34,
   "metadata": {},
   "outputs": [
    {
     "data": {
      "text/html": [
       "<div>\n",
       "<style scoped>\n",
       "    .dataframe tbody tr th:only-of-type {\n",
       "        vertical-align: middle;\n",
       "    }\n",
       "\n",
       "    .dataframe tbody tr th {\n",
       "        vertical-align: top;\n",
       "    }\n",
       "\n",
       "    .dataframe thead th {\n",
       "        text-align: right;\n",
       "    }\n",
       "</style>\n",
       "<table border=\"1\" class=\"dataframe\">\n",
       "  <thead>\n",
       "    <tr style=\"text-align: right;\">\n",
       "      <th></th>\n",
       "      <th>id</th>\n",
       "      <th>grp</th>\n",
       "      <th>rev</th>\n",
       "    </tr>\n",
       "  </thead>\n",
       "  <tbody>\n",
       "    <tr>\n",
       "      <th>0</th>\n",
       "      <td>581585</td>\n",
       "      <td>A</td>\n",
       "      <td>NaN</td>\n",
       "    </tr>\n",
       "    <tr>\n",
       "      <th>2</th>\n",
       "      <td>4238589</td>\n",
       "      <td>A</td>\n",
       "      <td>NaN</td>\n",
       "    </tr>\n",
       "    <tr>\n",
       "      <th>6</th>\n",
       "      <td>1394612</td>\n",
       "      <td>A</td>\n",
       "      <td>NaN</td>\n",
       "    </tr>\n",
       "    <tr>\n",
       "      <th>20</th>\n",
       "      <td>5194768</td>\n",
       "      <td>A</td>\n",
       "      <td>NaN</td>\n",
       "    </tr>\n",
       "    <tr>\n",
       "      <th>21</th>\n",
       "      <td>3658923</td>\n",
       "      <td>A</td>\n",
       "      <td>NaN</td>\n",
       "    </tr>\n",
       "  </tbody>\n",
       "</table>\n",
       "</div>"
      ],
      "text/plain": [
       "         id grp  rev\n",
       "0    581585   A  NaN\n",
       "2   4238589   A  NaN\n",
       "6   1394612   A  NaN\n",
       "20  5194768   A  NaN\n",
       "21  3658923   A  NaN"
      ]
     },
     "execution_count": 34,
     "metadata": {},
     "output_type": "execute_result"
    }
   ],
   "source": [
    "# группа А - контрольная группа\n",
    "df_control = df_active_checks_new[df_active_checks_new.grp == 'A']\n",
    "df_control.head(5)"
   ]
  },
  {
   "cell_type": "code",
   "execution_count": 35,
   "metadata": {},
   "outputs": [
    {
     "data": {
      "text/plain": [
       "(1564, 3)"
      ]
     },
     "execution_count": 35,
     "metadata": {},
     "output_type": "execute_result"
    }
   ],
   "source": [
    "df_control.shape"
   ]
  },
  {
   "cell_type": "code",
   "execution_count": 36,
   "metadata": {},
   "outputs": [
    {
     "data": {
      "text/html": [
       "<div>\n",
       "<style scoped>\n",
       "    .dataframe tbody tr th:only-of-type {\n",
       "        vertical-align: middle;\n",
       "    }\n",
       "\n",
       "    .dataframe tbody tr th {\n",
       "        vertical-align: top;\n",
       "    }\n",
       "\n",
       "    .dataframe thead th {\n",
       "        text-align: right;\n",
       "    }\n",
       "</style>\n",
       "<table border=\"1\" class=\"dataframe\">\n",
       "  <thead>\n",
       "    <tr style=\"text-align: right;\">\n",
       "      <th></th>\n",
       "      <th>id</th>\n",
       "      <th>grp</th>\n",
       "      <th>rev</th>\n",
       "    </tr>\n",
       "  </thead>\n",
       "  <tbody>\n",
       "    <tr>\n",
       "      <th>1</th>\n",
       "      <td>3276743</td>\n",
       "      <td>B</td>\n",
       "      <td>NaN</td>\n",
       "    </tr>\n",
       "    <tr>\n",
       "      <th>3</th>\n",
       "      <td>4475369</td>\n",
       "      <td>B</td>\n",
       "      <td>NaN</td>\n",
       "    </tr>\n",
       "    <tr>\n",
       "      <th>4</th>\n",
       "      <td>5481015</td>\n",
       "      <td>B</td>\n",
       "      <td>NaN</td>\n",
       "    </tr>\n",
       "    <tr>\n",
       "      <th>5</th>\n",
       "      <td>1353433</td>\n",
       "      <td>B</td>\n",
       "      <td>NaN</td>\n",
       "    </tr>\n",
       "    <tr>\n",
       "      <th>7</th>\n",
       "      <td>1170611</td>\n",
       "      <td>B</td>\n",
       "      <td>NaN</td>\n",
       "    </tr>\n",
       "  </tbody>\n",
       "</table>\n",
       "</div>"
      ],
      "text/plain": [
       "        id grp  rev\n",
       "1  3276743   B  NaN\n",
       "3  4475369   B  NaN\n",
       "4  5481015   B  NaN\n",
       "5  1353433   B  NaN\n",
       "7  1170611   B  NaN"
      ]
     },
     "execution_count": 36,
     "metadata": {},
     "output_type": "execute_result"
    }
   ],
   "source": [
    "# группа В - тестовая группа\n",
    "df_test = df_active_checks_new[df_active_checks_new.grp == 'B']\n",
    "df_test.head(5)"
   ]
  },
  {
   "cell_type": "code",
   "execution_count": 37,
   "metadata": {},
   "outputs": [
    {
     "data": {
      "text/plain": [
       "(6913, 3)"
      ]
     },
     "execution_count": 37,
     "metadata": {},
     "output_type": "execute_result"
    }
   ],
   "source": [
    "df_test.shape"
   ]
  },
  {
   "cell_type": "markdown",
   "metadata": {},
   "source": [
    "## Анализ данных\n",
    "***\n",
    "## Метрики\n",
    "Перед анализом данных сформируем глобальную гипотезу нашего эксперимента. Так как причина проведения А/В теста - изменение механизма оплаты услуг на сайте, я предполагаю, что основная метрика, интересующая нас - это конверсия в покупку активных пользователей. Если механизм показался покупателям удобнее, они будут чаще покупать, по сравнению с контрольной группой. Таким образом наша гипотеза будет звучать: \"Изменение механики оплаты на сайте, произведет значимое увеличение конверсии\".\n",
    "Так же у нас есть данные по оплатам пользователей, так что мы можем проверить средний и медианные (медиана может быть нагляднее, так как не чувствительна к выбросам) чеки на пользователей.\n",
    "\n",
    "### Конверсия в покупку\n",
    "***\n",
    "Для сравнения двух групп номинативных признаков применим Хи-квадрат. Н0 - разницы между конверсиями двух групп отсутствует. Н1 - между конверсиями существует статистически значимая разница.\n",
    "\n",
    "Но прежде посмотрим на сами значения конверсий в двух группах."
   ]
  },
  {
   "cell_type": "code",
   "execution_count": 38,
   "metadata": {},
   "outputs": [
    {
     "data": {
      "text/html": [
       "<div>\n",
       "<style scoped>\n",
       "    .dataframe tbody tr th:only-of-type {\n",
       "        vertical-align: middle;\n",
       "    }\n",
       "\n",
       "    .dataframe tbody tr th {\n",
       "        vertical-align: top;\n",
       "    }\n",
       "\n",
       "    .dataframe thead th {\n",
       "        text-align: right;\n",
       "    }\n",
       "</style>\n",
       "<table border=\"1\" class=\"dataframe\">\n",
       "  <thead>\n",
       "    <tr style=\"text-align: right;\">\n",
       "      <th></th>\n",
       "      <th>grp</th>\n",
       "      <th>active_users</th>\n",
       "      <th>paying_users</th>\n",
       "      <th>CR</th>\n",
       "    </tr>\n",
       "  </thead>\n",
       "  <tbody>\n",
       "    <tr>\n",
       "      <th>0</th>\n",
       "      <td>A</td>\n",
       "      <td>1564</td>\n",
       "      <td>107</td>\n",
       "      <td>6.84</td>\n",
       "    </tr>\n",
       "    <tr>\n",
       "      <th>1</th>\n",
       "      <td>B</td>\n",
       "      <td>6913</td>\n",
       "      <td>433</td>\n",
       "      <td>6.26</td>\n",
       "    </tr>\n",
       "  </tbody>\n",
       "</table>\n",
       "</div>"
      ],
      "text/plain": [
       "  grp  active_users  paying_users    CR\n",
       "0   A          1564           107  6.84\n",
       "1   B          6913           433  6.26"
      ]
     },
     "execution_count": 38,
     "metadata": {},
     "output_type": "execute_result"
    }
   ],
   "source": [
    "# расчет конверсии по группам\n",
    "df_conv = df_active_checks_new.groupby('grp', as_index=False) \\\n",
    "                              .agg({'id': 'count', 'rev': 'count'}) \\\n",
    "                              .rename(columns={'id': 'active_users', 'rev': 'paying_users'})\n",
    "df_conv = df_conv.assign(CR=(df_conv.paying_users / df_conv.active_users).mul(100).round(2))\n",
    "df_conv"
   ]
  },
  {
   "cell_type": "markdown",
   "metadata": {},
   "source": [
    "Конверсия тестовой группы уменьшилась, значит новая механика не поспособствовала увеличению конверсии, а даже уменьшила ее. Необходимо проверить статзначимость этого отличия. Как отмечалось ранее, воспользуемся критерием Хи-квадрат.\n",
    "## Гипотезы\n",
    "***\n",
    "\n",
    "    Н0: Конверсии тестовой и контрольной группы равны.\n",
    "    Н1: Конверсия тестовой и контрольной группы не равны, а разница статистически значима."
   ]
  },
  {
   "cell_type": "code",
   "execution_count": 39,
   "metadata": {},
   "outputs": [
    {
     "data": {
      "text/html": [
       "<div>\n",
       "<style scoped>\n",
       "    .dataframe tbody tr th:only-of-type {\n",
       "        vertical-align: middle;\n",
       "    }\n",
       "\n",
       "    .dataframe tbody tr th {\n",
       "        vertical-align: top;\n",
       "    }\n",
       "\n",
       "    .dataframe thead th {\n",
       "        text-align: right;\n",
       "    }\n",
       "</style>\n",
       "<table border=\"1\" class=\"dataframe\">\n",
       "  <thead>\n",
       "    <tr style=\"text-align: right;\">\n",
       "      <th></th>\n",
       "      <th>id</th>\n",
       "      <th>grp</th>\n",
       "      <th>rev</th>\n",
       "      <th>rev_status</th>\n",
       "    </tr>\n",
       "  </thead>\n",
       "  <tbody>\n",
       "    <tr>\n",
       "      <th>0</th>\n",
       "      <td>581585</td>\n",
       "      <td>A</td>\n",
       "      <td>NaN</td>\n",
       "      <td>not_purchase</td>\n",
       "    </tr>\n",
       "    <tr>\n",
       "      <th>1</th>\n",
       "      <td>3276743</td>\n",
       "      <td>B</td>\n",
       "      <td>NaN</td>\n",
       "      <td>not_purchase</td>\n",
       "    </tr>\n",
       "    <tr>\n",
       "      <th>2</th>\n",
       "      <td>4238589</td>\n",
       "      <td>A</td>\n",
       "      <td>NaN</td>\n",
       "      <td>not_purchase</td>\n",
       "    </tr>\n",
       "    <tr>\n",
       "      <th>3</th>\n",
       "      <td>4475369</td>\n",
       "      <td>B</td>\n",
       "      <td>NaN</td>\n",
       "      <td>not_purchase</td>\n",
       "    </tr>\n",
       "    <tr>\n",
       "      <th>4</th>\n",
       "      <td>5481015</td>\n",
       "      <td>B</td>\n",
       "      <td>NaN</td>\n",
       "      <td>not_purchase</td>\n",
       "    </tr>\n",
       "  </tbody>\n",
       "</table>\n",
       "</div>"
      ],
      "text/plain": [
       "        id grp  rev    rev_status\n",
       "0   581585   A  NaN  not_purchase\n",
       "1  3276743   B  NaN  not_purchase\n",
       "2  4238589   A  NaN  not_purchase\n",
       "3  4475369   B  NaN  not_purchase\n",
       "4  5481015   B  NaN  not_purchase"
      ]
     },
     "execution_count": 39,
     "metadata": {},
     "output_type": "execute_result"
    }
   ],
   "source": [
    "# подготовим данные для расчета критерия, добавим столбец признака юзера о покупке или не покупке товара\n",
    "df_active_purchase = df_active_checks_new.assign(rev_status=np.where(df_active_checks_new.rev.isna(), \n",
    "                                                                     'not_purchase', 'purchase'))\n",
    "df_active_purchase.head(5)"
   ]
  },
  {
   "cell_type": "code",
   "execution_count": 40,
   "metadata": {},
   "outputs": [
    {
     "data": {
      "text/html": [
       "<div>\n",
       "<style scoped>\n",
       "    .dataframe tbody tr th:only-of-type {\n",
       "        vertical-align: middle;\n",
       "    }\n",
       "\n",
       "    .dataframe tbody tr th {\n",
       "        vertical-align: top;\n",
       "    }\n",
       "\n",
       "    .dataframe thead th {\n",
       "        text-align: right;\n",
       "    }\n",
       "</style>\n",
       "<table border=\"1\" class=\"dataframe\">\n",
       "  <thead>\n",
       "    <tr style=\"text-align: right;\">\n",
       "      <th>rev_status</th>\n",
       "      <th>not_purchase</th>\n",
       "      <th>purchase</th>\n",
       "    </tr>\n",
       "    <tr>\n",
       "      <th>grp</th>\n",
       "      <th></th>\n",
       "      <th></th>\n",
       "    </tr>\n",
       "  </thead>\n",
       "  <tbody>\n",
       "    <tr>\n",
       "      <th>A</th>\n",
       "      <td>1457</td>\n",
       "      <td>107</td>\n",
       "    </tr>\n",
       "    <tr>\n",
       "      <th>B</th>\n",
       "      <td>6480</td>\n",
       "      <td>433</td>\n",
       "    </tr>\n",
       "  </tbody>\n",
       "</table>\n",
       "</div>"
      ],
      "text/plain": [
       "rev_status  not_purchase  purchase\n",
       "grp                               \n",
       "A                   1457       107\n",
       "B                   6480       433"
      ]
     },
     "execution_count": 40,
     "metadata": {},
     "output_type": "execute_result"
    }
   ],
   "source": [
    "# переведем наш датафрейм в таблицу 2х2 с количественным разделением по номинативным признакам \n",
    "df_active_crosstab = pd.crosstab(df_active_purchase.grp, df_active_purchase.rev_status)\n",
    "df_active_crosstab"
   ]
  },
  {
   "cell_type": "code",
   "execution_count": 41,
   "metadata": {},
   "outputs": [
    {
     "data": {
      "text/plain": [
       "(0.6204959154128902, 0.4308630604023529)"
      ]
     },
     "execution_count": 41,
     "metadata": {},
     "output_type": "execute_result"
    }
   ],
   "source": [
    "# произведем расчет для получения статистики Хи-квадрат и p-value\n",
    "g, p, dof, expctd = ss.chi2_contingency(df_active_crosstab)\n",
    "g, p"
   ]
  },
  {
   "cell_type": "markdown",
   "metadata": {},
   "source": [
    "Значение p-value > 0,05 (заданный уровень значимости), следовательно мы не можем отклонить гипоетзу H0, т.е. различие в конверсиях двух групп статистически не значимо.\n",
    "\n",
    "## Средний чек и медианный чек\n",
    "***\n",
    "Прежде всего посмотрим на распределение покупок по группам"
   ]
  },
  {
   "cell_type": "code",
   "execution_count": 42,
   "metadata": {},
   "outputs": [
    {
     "data": {
      "image/png": "[encoded data removed]",
      "text/plain": [
       "<Figure size 1440x720 with 1 Axes>"
      ]
     },
     "metadata": {},
     "output_type": "display_data"
    }
   ],
   "source": [
    "sns.set(font_scale=2, style='whitegrid', rc={'figure.figsize': (20, 10)})\n",
    "sns.histplot(x=df_active_checks_new.rev, hue=df_active_checks_new.grp)\n",
    "plt.xlabel('Revenue')\n",
    "plt.ylabel('Count')\n",
    "plt.title(\"Revenue by groups\")\n",
    "plt.show()"
   ]
  },
  {
   "cell_type": "code",
   "execution_count": 43,
   "metadata": {},
   "outputs": [
    {
     "data": {
      "image/png": "[encoded data removed]",
      "text/plain": [
       "<Figure size 1440x720 with 1 Axes>"
      ]
     },
     "metadata": {},
     "output_type": "display_data"
    }
   ],
   "source": [
    "# и построим боксплот\n",
    "sns.boxplot(data=df_active_checks_new, x='grp', y='rev')\n",
    "plt.xlabel('Groups')\n",
    "plt.ylabel('Revenue')\n",
    "plt.title(\"Boxplot of revenue by groups\")\n",
    "plt.show()"
   ]
  },
  {
   "cell_type": "markdown",
   "metadata": {},
   "source": [
    "Как видно из графиков, значения тестовой группы выше, чем у контрольной. Связано это с тем, что у нас не равное распределение пользователей по группам (в тестовой пользователей больше, приблизительно, в 4 раза). Из гистограммы видно, что все значения одинаково пропорциональны, кроме оплат тестовой группы, около 2000 (на боксплоте, так же видно, что отношение от 25 процентиля до медианы практически равны, а от медианы до 75 процентиля разница существенная)."
   ]
  },
  {
   "cell_type": "code",
   "execution_count": 44,
   "metadata": {},
   "outputs": [
    {
     "data": {
      "text/plain": [
       "(290.0     31\n",
       " 690.0     19\n",
       " 199.0      7\n",
       " 580.0      6\n",
       " 990.0      6\n",
       " 1140.0     5\n",
       " 590.0      5\n",
       " 840.0      3\n",
       " 3660.0     3\n",
       " 1530.0     3\n",
       " Name: rev, dtype: int64,\n",
       " 1900.0000    96\n",
       " 290.0000     63\n",
       " 690.0000     59\n",
       " 199.0000     39\n",
       " 1900.0001    36\n",
       " 990.0000     35\n",
       " 840.0000     24\n",
       " 1140.0000    20\n",
       " 580.0000      9\n",
       " 398.0000      7\n",
       " Name: rev, dtype: int64)"
      ]
     },
     "execution_count": 44,
     "metadata": {},
     "output_type": "execute_result"
    }
   ],
   "source": [
    "# посмотрим на топ-10 распределения значений чеков в обоих группах\n",
    "df_control.rev.value_counts().head(10), df_test.rev.value_counts().head(10)"
   ]
  },
  {
   "cell_type": "markdown",
   "metadata": {},
   "source": [
    "Аномально большое число оплат в тестовой группе с чеком в 1900."
   ]
  },
  {
   "cell_type": "code",
   "execution_count": 45,
   "metadata": {},
   "outputs": [
    {
     "data": {
      "text/plain": [
       "(count     107.000000\n",
       " mean      860.710280\n",
       " std       815.893445\n",
       " min       199.000000\n",
       " 25%       290.000000\n",
       " 50%       690.000000\n",
       " 75%       990.000000\n",
       " max      3660.000000\n",
       " Name: rev, dtype: float64,\n",
       " count     433.000000\n",
       " mean     1106.997699\n",
       " std       741.714026\n",
       " min       199.000000\n",
       " 25%       398.000000\n",
       " 50%       880.000000\n",
       " 75%      1900.000000\n",
       " max      4650.000000\n",
       " Name: rev, dtype: float64)"
      ]
     },
     "execution_count": 45,
     "metadata": {},
     "output_type": "execute_result"
    }
   ],
   "source": [
    "# посмотрим статпоказатели обеих групп\n",
    "df_control.rev.describe(), df_test.rev.describe()"
   ]
  },
  {
   "cell_type": "code",
   "execution_count": 46,
   "metadata": {},
   "outputs": [
    {
     "data": {
      "text/html": [
       "<div>\n",
       "<style scoped>\n",
       "    .dataframe tbody tr th:only-of-type {\n",
       "        vertical-align: middle;\n",
       "    }\n",
       "\n",
       "    .dataframe tbody tr th {\n",
       "        vertical-align: top;\n",
       "    }\n",
       "\n",
       "    .dataframe thead th {\n",
       "        text-align: right;\n",
       "    }\n",
       "</style>\n",
       "<table border=\"1\" class=\"dataframe\">\n",
       "  <thead>\n",
       "    <tr style=\"text-align: right;\">\n",
       "      <th></th>\n",
       "      <th>grp</th>\n",
       "      <th>mean_revenue</th>\n",
       "      <th>median_revenue</th>\n",
       "    </tr>\n",
       "  </thead>\n",
       "  <tbody>\n",
       "    <tr>\n",
       "      <th>0</th>\n",
       "      <td>A</td>\n",
       "      <td>860.710280</td>\n",
       "      <td>690.0</td>\n",
       "    </tr>\n",
       "    <tr>\n",
       "      <th>1</th>\n",
       "      <td>B</td>\n",
       "      <td>1106.997699</td>\n",
       "      <td>880.0</td>\n",
       "    </tr>\n",
       "  </tbody>\n",
       "</table>\n",
       "</div>"
      ],
      "text/plain": [
       "  grp  mean_revenue  median_revenue\n",
       "0   A    860.710280           690.0\n",
       "1   B   1106.997699           880.0"
      ]
     },
     "execution_count": 46,
     "metadata": {},
     "output_type": "execute_result"
    }
   ],
   "source": [
    "# оставим только нужные\n",
    "stat_metrics = pd.DataFrame({'grp': ['A', 'B'],\n",
    "                             'mean_revenue': [df_control.rev.mean(), df_test.rev.mean()],\n",
    "                             'median_revenue': [df_control.rev.median(), df_test.rev.median()]})\n",
    "stat_metrics"
   ]
  },
  {
   "cell_type": "markdown",
   "metadata": {},
   "source": [
    "Видим, что значения средней и медианной оплат тестовой группы выше. Это обусловлено теми аномальными значениями тестовой группы на гистограмме. Провести глубокий анализ, является ли эта аномалия ошибкой или это обусловлено изменениями механики оплаты, не представляется возможным.\n",
    "Так как АВ-тест уже проведен и различие в значениях существует, необходимо проверить статистическую значимость этих различий. Распределения оплат не является нормальным, а также нам интересно посмотреть на разницу медиан, не получится восользоваться t-тестом и непараметрическим критерием Манна-Уитни. Для данной цели воспользуемся bootstrap'ом.\n",
    "\n",
    "## Гипотезы:\n",
    "***\n",
    "\n",
    "    Н0: Разница между оплатами в тестовой и контрольной группе отсутствует.\n",
    "    Н1: Разница между оплатами в тестовой и контрольной группе статистически значима"
   ]
  },
  {
   "cell_type": "code",
   "execution_count": 47,
   "metadata": {},
   "outputs": [],
   "source": [
    "# Функци расчета методом бутстрапа. Уровень статистической значимости примем 95 %, количество подвыборок 1000 шт.\n",
    "\n",
    "def get_bootstrap(\n",
    "    data_column_1,  # числовые значения первой выборки\n",
    "    data_column_2,  # числовые значения второй выборки\n",
    "    statistic,  # интересующая нас статистика\n",
    "    viz,  # визуализировать ли данные True/False\n",
    "    boot_it=1000,  # количество бутстрэп-подвыборок\n",
    "    bootstrap_conf_level=0.95,  # уровень значимости\n",
    "):\n",
    "        \n",
    "    boot_len = max([len(data_column_1), len(data_column_2)])\n",
    "    boot_data = []\n",
    "    for i in tqdm(range(boot_it)):  # извлекаем подвыборки\n",
    "        samples_1 = data_column_1.sample(\n",
    "            boot_len, \n",
    "            replace=True  # параметр возвращения\n",
    "        ).values\n",
    "        \n",
    "        samples_2 = data_column_2.sample(\n",
    "            boot_len, \n",
    "            replace=True\n",
    "        ).values\n",
    "        \n",
    "        # применяем выбранную статистику\n",
    "        if statistic == np.mean:\n",
    "            boot_data.append(statistic(samples_1 - samples_2))\n",
    "        elif statistic == np.median:\n",
    "            boot_data.append(statistic(samples_1) - statistic(samples_2))\n",
    "        \n",
    "    pd_boot_data = pd.DataFrame(boot_data)\n",
    "        \n",
    "    left_quant = (1 - bootstrap_conf_level) / 2\n",
    "    right_quant = 1 - (1 - bootstrap_conf_level) / 2\n",
    "    ci = pd_boot_data.quantile([left_quant, 0.5, right_quant])\n",
    "        \n",
    "    p_value = min((pd_boot_data < 0).sum()[0], (pd_boot_data > 0).sum()[0]) * 2 / len(pd_boot_data)\n",
    "        \n",
    "    # Визуализация\n",
    "    if viz is True:\n",
    "        plt.hist(pd_boot_data[0], bins=50)\n",
    "\n",
    "        plt.style.use('ggplot')\n",
    "        plt.vlines(ci, ymin=0, ymax=50, linestyle='--')\n",
    "        plt.xlabel('boot_data')\n",
    "        plt.ylabel('frequency')\n",
    "        plt.title(\"Histogram of boot_data\")\n",
    "        plt.show()\n",
    "       \n",
    "    return {\"ci\": ci, \n",
    "            \"p_value\": p_value}"
   ]
  },
  {
   "cell_type": "code",
   "execution_count": 48,
   "metadata": {},
   "outputs": [
    {
     "data": {
      "application/vnd.jupyter.widget-view+json": {
       "model_id": "b491e148448542eba64cf1eed4611de6",
       "version_major": 2,
       "version_minor": 0
      },
      "text/plain": [
       "HBox(children=(FloatProgress(value=0.0, max=1000.0), HTML(value='')))"
      ]
     },
     "metadata": {},
     "output_type": "display_data"
    },
    {
     "name": "stdout",
     "output_type": "stream",
     "text": [
      "\n"
     ]
    },
    {
     "data": {
      "image/png": "[encoded data removed]",
      "text/plain": [
       "<Figure size 1440x720 with 1 Axes>"
      ]
     },
     "metadata": {},
     "output_type": "display_data"
    },
    {
     "data": {
      "text/plain": [
       "{'ci':                 0\n",
       " 0.025  136.838172\n",
       " 0.500  245.181301\n",
       " 0.975  350.467041,\n",
       " 'p_value': 0.0}"
      ]
     },
     "execution_count": 48,
     "metadata": {},
     "output_type": "execute_result"
    }
   ],
   "source": [
    "# расчет бутстрапом средних оплат\n",
    "bootstrap_mean = get_bootstrap(df_test.dropna().rev, df_control.dropna().rev, np.mean, True)\n",
    "bootstrap_mean"
   ]
  },
  {
   "cell_type": "markdown",
   "metadata": {},
   "source": [
    "Полученный P-value меньше 0,05, значит мы можем отклонить нулевую гипотезу о равенстве средних чеков. Но, так как среднее очень чувствительно к выбросам, проведем проверку на медианный чек."
   ]
  },
  {
   "cell_type": "code",
   "execution_count": 49,
   "metadata": {},
   "outputs": [
    {
     "data": {
      "application/vnd.jupyter.widget-view+json": {
       "model_id": "96f6fc894a034b209067067e85cd3ca5",
       "version_major": 2,
       "version_minor": 0
      },
      "text/plain": [
       "HBox(children=(FloatProgress(value=0.0, max=1000.0), HTML(value='')))"
      ]
     },
     "metadata": {},
     "output_type": "display_data"
    },
    {
     "name": "stdout",
     "output_type": "stream",
     "text": [
      "\n"
     ]
    },
    {
     "data": {
      "image/png": "[encoded data removed]",
      "text/plain": [
       "<Figure size 1440x720 with 1 Axes>"
      ]
     },
     "metadata": {},
     "output_type": "display_data"
    },
    {
     "data": {
      "text/plain": [
       "{'ci':            0\n",
       " 0.025  150.0\n",
       " 0.500  280.0\n",
       " 0.975  400.0,\n",
       " 'p_value': 0.0}"
      ]
     },
     "execution_count": 49,
     "metadata": {},
     "output_type": "execute_result"
    }
   ],
   "source": [
    "# расчет бутстрапом медианных оплат\n",
    "bootstrap_median = get_bootstrap(df_test.dropna().rev, df_control.dropna().rev, np.median, True)\n",
    "bootstrap_median"
   ]
  },
  {
   "cell_type": "markdown",
   "metadata": {},
   "source": [
    "P-value < 0,05, а значит мы отклоняем нулевую гипотезу, медианные значения чеков тестовой группы выше, чем у контрольной.\n",
    "***\n",
    "Приведем результаты в виде таблицы метрик. Помимо конверсии из активных пользователей в покупку, укажем ARPAU и ARPPU."
   ]
  },
  {
   "cell_type": "code",
   "execution_count": 50,
   "metadata": {},
   "outputs": [
    {
     "data": {
      "text/html": [
       "<div>\n",
       "<style scoped>\n",
       "    .dataframe tbody tr th:only-of-type {\n",
       "        vertical-align: middle;\n",
       "    }\n",
       "\n",
       "    .dataframe tbody tr th {\n",
       "        vertical-align: top;\n",
       "    }\n",
       "\n",
       "    .dataframe thead th {\n",
       "        text-align: right;\n",
       "    }\n",
       "</style>\n",
       "<table border=\"1\" class=\"dataframe\">\n",
       "  <thead>\n",
       "    <tr style=\"text-align: right;\">\n",
       "      <th></th>\n",
       "      <th>grp</th>\n",
       "      <th>CR</th>\n",
       "      <th>ARPAU</th>\n",
       "      <th>ARPPU</th>\n",
       "      <th>median_rev</th>\n",
       "    </tr>\n",
       "  </thead>\n",
       "  <tbody>\n",
       "    <tr>\n",
       "      <th>0</th>\n",
       "      <td>A</td>\n",
       "      <td>6.84</td>\n",
       "      <td>58.88</td>\n",
       "      <td>860.71</td>\n",
       "      <td>690.0</td>\n",
       "    </tr>\n",
       "    <tr>\n",
       "      <th>1</th>\n",
       "      <td>B</td>\n",
       "      <td>6.26</td>\n",
       "      <td>69.34</td>\n",
       "      <td>1107.00</td>\n",
       "      <td>880.0</td>\n",
       "    </tr>\n",
       "  </tbody>\n",
       "</table>\n",
       "</div>"
      ],
      "text/plain": [
       "  grp    CR  ARPAU    ARPPU  median_rev\n",
       "0   A  6.84  58.88   860.71       690.0\n",
       "1   B  6.26  69.34  1107.00       880.0"
      ]
     },
     "execution_count": 50,
     "metadata": {},
     "output_type": "execute_result"
    }
   ],
   "source": [
    "# расчет метрик по группам\n",
    "metrics = df_active_checks_new.assign(reve=df_active_checks_new.rev)\n",
    "metrics = metrics.groupby('grp', as_index=False) \\\n",
    "                 .agg({'id': 'count', 'rev': 'count', 'reve': 'sum'}) \\\n",
    "                 .rename(columns={'id': 'active_users', 'rev': 'paying_users', 'reve': 'total_revenue'})\n",
    "metrics = metrics.assign(CR=(metrics.paying_users / metrics.active_users).mul(100).round(2),\n",
    "                         ARPAU=(metrics.total_revenue / metrics.active_users).round(2),\n",
    "                         ARPPU=(metrics.total_revenue / metrics.paying_users).round(2),\n",
    "                         median_rev=stat_metrics.median_revenue)\n",
    "metrics = metrics[['grp', 'CR', 'ARPAU', 'ARPPU', 'median_rev']]\n",
    "metrics"
   ]
  },
  {
   "cell_type": "code",
   "execution_count": 51,
   "metadata": {},
   "outputs": [
    {
     "data": {
      "text/html": [
       "<div>\n",
       "<style scoped>\n",
       "    .dataframe tbody tr th:only-of-type {\n",
       "        vertical-align: middle;\n",
       "    }\n",
       "\n",
       "    .dataframe tbody tr th {\n",
       "        vertical-align: top;\n",
       "    }\n",
       "\n",
       "    .dataframe thead th {\n",
       "        text-align: right;\n",
       "    }\n",
       "</style>\n",
       "<table border=\"1\" class=\"dataframe\">\n",
       "  <thead>\n",
       "    <tr style=\"text-align: right;\">\n",
       "      <th></th>\n",
       "      <th>CR</th>\n",
       "      <th>ARPAU</th>\n",
       "      <th>ARPPU</th>\n",
       "      <th>median_rev</th>\n",
       "    </tr>\n",
       "  </thead>\n",
       "  <tbody>\n",
       "    <tr>\n",
       "      <th>1</th>\n",
       "      <td>-8.48</td>\n",
       "      <td>17.76</td>\n",
       "      <td>28.61</td>\n",
       "      <td>27.54</td>\n",
       "    </tr>\n",
       "  </tbody>\n",
       "</table>\n",
       "</div>"
      ],
      "text/plain": [
       "     CR  ARPAU  ARPPU  median_rev\n",
       "1 -8.48  17.76  28.61       27.54"
      ]
     },
     "execution_count": 51,
     "metadata": {},
     "output_type": "execute_result"
    }
   ],
   "source": [
    "# посмортим на изменение метрик в процентах\n",
    "metrics_change = (metrics.drop(columns='grp').pct_change() * 100).round(2).dropna()\n",
    "metrics_change"
   ]
  },
  {
   "cell_type": "markdown",
   "metadata": {},
   "source": [
    "## Вывод\n",
    "***\n",
    "После проведения эксперимента можно сказать следующее:\n",
    "- Конверсия в покупку активных пользователей уменьшилась на 8,48 %, это изменение статистически не значимо;\n",
    "- Средний чек платящих пользователей увеличился на 28,61 %, это изменение статистически значимо;\n",
    "- Медианный чек платящих пользователей увеличился на 27,54 %, это изменение статистически значимо.\n",
    "***\n",
    "По полученным результатам можно сделать вывод, что изначальная гипотеза опроверглась, но изменение механики оплаты услуг на сайте положительно повлияло на выручку. Однако на основании полученных данных эксперимента и проведенного анализа, я считаю, новую механику выводить на всех пользователей рано. В данном эксперименте были зафиксированны ошибки (не все платящие считались активными) и аномальные значения по оплатам в тестовой группе. Необходимо выяснить, ошибки ли это и если да, устранить их. После, провести повторный АВ-тест, если результаты повторятся, тогда выкатывать изменения на всех пользователей."
   ]
  },
  {
   "cell_type": "markdown",
   "metadata": {},
   "source": [
    "## Задание 2. SQL\n",
    "***\n",
    "### 2.1 Очень усердные ученики.\n",
    "***\n",
    "#### 2.1.1 Условие\n",
    "\n",
    "Образовательные курсы состоят из различных уроков, каждый из которых состоит из нескольких маленьких заданий. Каждое такое маленькое задание называется \"горошиной\".\n",
    "\n",
    "Назовём очень усердным учеником того пользователя, который хотя бы раз за текущий месяц правильно решил 20 горошин за час.\n",
    "\n",
    "#### 2.1.2 Задача\n",
    "\n",
    "Дана таблица peas. Необходимо написать оптимальный запрос, который даст информацию о количестве очень усердных студентов за март 2020 года."
   ]
  },
  {
   "cell_type": "markdown",
   "metadata": {},
   "source": [
    "### Решение"
   ]
  },
  {
   "cell_type": "markdown",
   "metadata": {},
   "source": [
    "    WITH stud AS (\n",
    "    SELECT\n",
    "        *,\n",
    "        LAG(timest, 19) OVER(PARTITION BY st_id ORDER BY timest) AS twenty_tasks,\n",
    "        timest - LAG(timest, 19) OVER(PARTITION BY st_id ORDER BY timest) AS twenty_task_duration\n",
    "    FROM\n",
    "        peas\n",
    "    WHERE \n",
    "        DATE_TRUNC('month', timest) = '2020-03-01 00:00:00'\n",
    "        AND correct = True\n",
    "    )\n",
    "\n",
    "    SELECT\n",
    "        COUNT(DISTINCT st_id)\n",
    "    FROM\n",
    "        stud\n",
    "    WHERE\n",
    "        twenty_task_duration <= '01:00:00'"
   ]
  },
  {
   "cell_type": "markdown",
   "metadata": {},
   "source": [
    "### 2.2 Оптимизация воронки\n",
    "***\n",
    "#### 2.2.1 Условие\n",
    "\n",
    "Образовательная платформа предлагает пройти студентам курсы по модели trial: студент может решить бесплатно лишь 30 горошин в день. Для неограниченного количества заданий в определенной дисциплине студенту необходимо приобрести полный доступ. Команда провела эксперимент, где был протестирован новый экран оплаты.\n",
    "\n",
    "#### 2.2.2 Задача\n",
    "\n",
    "Дана таблицы: peas (см. выше), studs и checks:\n",
    "\n",
    "Необходимо в одном запросе выгрузить следующую информацию о группах пользователей:\n",
    "- ARPU \n",
    "- ARPAU \n",
    "- CR в покупку \n",
    "- СR активного пользователя в покупку \n",
    "- CR пользователя из активности по математике (subject = ’math’) в покупку курса по математике"
   ]
  },
  {
   "cell_type": "markdown",
   "metadata": {},
   "source": [
    "### Решение"
   ]
  },
  {
   "cell_type": "markdown",
   "metadata": {},
   "source": [
    "    WITH\n",
    "    -- Число студентов в эксперименте и число активных студентов по группам\n",
    "        num_users AS (\n",
    "            SELECT \n",
    "                s.test_grp,\n",
    "                COUNT(DISTINCT s.st_id) AS num_user,\n",
    "                COUNT(DISTINCT p.st_id) AS num_active_user\n",
    "            FROM\n",
    "                studs AS s\n",
    "            LEFT JOIN\n",
    "                peas AS p\n",
    "            ON\n",
    "                s.st_id = p.st_id\n",
    "            GROUP BY\n",
    "                s.test_grp\n",
    "        ),\n",
    "\n",
    "    -- Суммарный доход от студентов и количество платящих студентов по группам     \n",
    "        checks_parametrs AS (\n",
    "            SELECT\n",
    "                s.test_grp,\n",
    "                SUM(c.money) AS revenue,\n",
    "                COUNT(DISTINCT c.st_id) AS num_paying_st\n",
    "            FROM\n",
    "                studs AS s\n",
    "            JOIN\n",
    "                checks AS c\n",
    "            ON\n",
    "                s.st_id = c.st_id\n",
    "            GROUP BY\n",
    "                s.test_grp\n",
    "        ),\n",
    "\n",
    "    -- Число активных студентов изучающих математику по группам    \n",
    "        num_active_math AS (\n",
    "            SELECT\n",
    "                s.test_grp,\n",
    "                COUNT(DISTINCT p.st_id) AS num_active_math_st\n",
    "            FROM\n",
    "                peas AS p\n",
    "            JOIN\n",
    "                studs AS s\n",
    "            ON\n",
    "                p.st_id = s.st_id\n",
    "            WHERE\n",
    "                p.subject = 'math'\n",
    "            GROUP BY\n",
    "                s.test_grp\n",
    "        ),\n",
    "\n",
    "    -- Число студентов оплачивающих математику по группам    \n",
    "        num_math_checks AS (\n",
    "            SELECT\n",
    "                s.test_grp,\n",
    "                COUNT(DISTINCT c.st_id) AS num_paying_math\n",
    "            FROM\n",
    "                checks AS c\n",
    "            JOIN\n",
    "                studs AS s\n",
    "            ON\n",
    "                c.st_id = s.st_id\n",
    "            WHERE\n",
    "                c.subject = 'math'\n",
    "            GROUP BY\n",
    "                s.test_grp\n",
    "        )\n",
    "\n",
    "    -- Запрос требуемых метрик\n",
    "    SELECT\n",
    "        nu.test_grp,\n",
    "        ROUND((cp.revenue / nu.num_user) , 2) AS ARPU,\n",
    "        ROUND((cp.revenue / nu.num_active_user) , 2) AS ARPAU,\n",
    "        ROUND((cp.num_paying_st * 100 / nu.num_user) , 2) AS CR,\n",
    "        ROUND((cp.num_paying_st * 100 / nu.num_active_user) , 2) AS CR_active,\n",
    "        ROUND((nmc.num_paying_math * 100 / nam.num_active_math_st) , 2) AS CR_active_math\n",
    "    FROM\n",
    "        num_users AS nu\n",
    "    JOIN\n",
    "        checks_parametrs AS cp\n",
    "    ON\n",
    "        nu.test_grp = cp.test_grp\n",
    "    JOIN\n",
    "        num_active_math AS nam\n",
    "    ON\n",
    "        nu.test_grp = nam.test_grp\n",
    "    JOIN\n",
    "        num_math_checks AS nmc\n",
    "    ON\n",
    "        nu.test_grp = nmc.test_grp"
   ]
  },
  {
   "cell_type": "markdown",
   "metadata": {},
   "source": [
    "## Задание 3. Python\n",
    "***\n",
    "### 3.1 Задача\n",
    "\n",
    "1. Реализуйте функцию, которая будет автоматически подгружать информацию из дополнительного файла groups_add.csv (заголовки могут отличаться) и на основании дополнительных параметров пересчитывать метрики.\n",
    "2. Реализуйте функцию, которая будет строить графики по получаемым метрикам.\n",
    "***\n",
    "### 1. Функция подгружения дополнительных данных"
   ]
  },
  {
   "cell_type": "code",
   "execution_count": 52,
   "metadata": {},
   "outputs": [],
   "source": [
    "# url загрузки файла положим в переменную\n",
    "url_groups_add = 'https://disk.yandex.ru/d/3aARY-P9pfaksg'"
   ]
  },
  {
   "cell_type": "code",
   "execution_count": 53,
   "metadata": {},
   "outputs": [],
   "source": [
    "# Функция принимает новые данные и выводит пересчитанные метрики.\n",
    "\n",
    "def new_data_metrics(\n",
    "    url,  # url загрузки файла\n",
    "    previous_metrics=metrics  # метрики предыдущего расчета\n",
    "):\n",
    "    # подготавливаем данные\n",
    "    df_groups_add = pd.read_csv(url_base + url, \n",
    "                                names=['id', 'grp'], header=0)  # подгружаем новые данные\n",
    "    df_group = pd.concat([df_groups, df_groups_add])  # объединение старых и новых данных\n",
    "    active_groups = df_active_studs.merge(df_group, how='left', on='id')  # разделение активных пользователей по группам\n",
    "    checks_groups = df_checks.merge(df_group, how='left', on='id')  # разделение платящих пользователей по группам\n",
    "    active_checks = active_groups.merge(checks_groups, \n",
    "                                        how='outer', on=['id', 'grp'])  # объединяем с учетом неучтенных покупателей\n",
    "    \n",
    "    # расчитываем метрики\n",
    "    metrics_new = active_checks.assign(reve=active_checks.rev)\n",
    "    metrics_new = metrics_new.groupby('grp', as_index=False) \\\n",
    "                             .agg({'id': 'count', 'rev': 'count', 'reve': 'sum'}) \\\n",
    "                             .rename(columns={'id': 'active_users', 'rev': 'paying_users', 'reve': 'total_revenue'})\n",
    "    metrics_new = metrics_new.assign(CR=(metrics_new.paying_users / metrics_new.active_users).mul(100).round(2), \n",
    "                                     ARPAU=(metrics_new.total_revenue / metrics_new.active_users).round(2), \n",
    "                                     ARPPU=(metrics_new.total_revenue / metrics_new.paying_users).round(2), \n",
    "                                     median_rev=[active_checks[active_checks.grp == 'A'].rev.median(), \n",
    "                                                 active_checks[active_checks.grp == 'B'].rev.median()])\n",
    "    \n",
    "    # метрики по группам\n",
    "    metrics_new_short = metrics_new[['grp', 'CR', 'ARPAU', 'ARPPU', 'median_rev']]\n",
    "    metrics_new_final = metrics.append(metrics_new_short) \\\n",
    "                               .reset_index().rename(columns={'index': 'experiment'})\n",
    "    metrics_new_final.experiment = np.where(metrics_new_final.index <= 1, 'previous', 'current')\n",
    "    \n",
    "    # изменение метрик после эксперимента в процентах\n",
    "    metrics_change_new = (metrics_new_short.drop(columns='grp').pct_change() * 100).round(2).dropna()\n",
    "    \n",
    "    # пересчет статзначимости экспериментов\n",
    "    # Хи квадрат\n",
    "    active_purchase = active_checks.assign(rev_status=np.where(active_checks.rev.isna(), \n",
    "                                                               'not_purchase', \n",
    "                                                               'purchase'))  # добавляем номинативный признак\n",
    "    df_crosstab = pd.crosstab(active_purchase.grp, active_purchase.rev_status)  # таблица номинативных признаков 2х2\n",
    "    g_new, p_new, dof_new, expctd_new = ss.chi2_contingency(df_crosstab)  # расчет Хи квадрат\n",
    "    \n",
    "    # Бутстрэп среднего чека\n",
    "    mean_bootstrap = get_bootstrap(active_checks[active_checks.grp == 'B'].dropna().rev, \n",
    "                                   active_checks[active_checks.grp == 'A'].dropna().rev, \n",
    "                                   np.mean, \n",
    "                                   False)\n",
    "    # Бутстрэп медианного чека\n",
    "    median_bootstrap = get_bootstrap(active_checks[active_checks.grp == 'B'].dropna().rev, \n",
    "                                     active_checks[active_checks.grp == 'A'].dropna().rev, \n",
    "                                     np.median, \n",
    "                                     False)\n",
    "    # финальная таблица метрик\n",
    "    metrics_change_final = metrics_change_new.assign(CR_p_value=p_new, \n",
    "                                                     ARPPU_p_value=mean_bootstrap['p_value'], \n",
    "                                                     median_p_value=median_bootstrap['p_value'])\n",
    "    metrics_change_final = metrics_change.append(metrics_change_final) \\\n",
    "                                         .reset_index().rename(columns={'index': 'experiment'})\n",
    "    metrics_change_final.experiment = np.where(metrics_change_final.index <= 0, 'previous', 'current')\n",
    "    \n",
    "    return {'metrics_by_group': metrics_new_final, \n",
    "            'ratio_and_p_value': metrics_change_final}"
   ]
  },
  {
   "cell_type": "code",
   "execution_count": 54,
   "metadata": {},
   "outputs": [
    {
     "data": {
      "application/vnd.jupyter.widget-view+json": {
       "model_id": "42f1e9479bab4570bf29bf1308482ab9",
       "version_major": 2,
       "version_minor": 0
      },
      "text/plain": [
       "HBox(children=(FloatProgress(value=0.0, max=1000.0), HTML(value='')))"
      ]
     },
     "metadata": {},
     "output_type": "display_data"
    },
    {
     "name": "stdout",
     "output_type": "stream",
     "text": [
      "\n"
     ]
    },
    {
     "data": {
      "application/vnd.jupyter.widget-view+json": {
       "model_id": "51e0a88126764a1bb9968c16ce1d9fdb",
       "version_major": 2,
       "version_minor": 0
      },
      "text/plain": [
       "HBox(children=(FloatProgress(value=0.0, max=1000.0), HTML(value='')))"
      ]
     },
     "metadata": {},
     "output_type": "display_data"
    },
    {
     "name": "stdout",
     "output_type": "stream",
     "text": [
      "\n"
     ]
    }
   ],
   "source": [
    "result = new_data_metrics(url_groups_add)"
   ]
  },
  {
   "cell_type": "code",
   "execution_count": 55,
   "metadata": {},
   "outputs": [
    {
     "data": {
      "text/html": [
       "<div>\n",
       "<style scoped>\n",
       "    .dataframe tbody tr th:only-of-type {\n",
       "        vertical-align: middle;\n",
       "    }\n",
       "\n",
       "    .dataframe tbody tr th {\n",
       "        vertical-align: top;\n",
       "    }\n",
       "\n",
       "    .dataframe thead th {\n",
       "        text-align: right;\n",
       "    }\n",
       "</style>\n",
       "<table border=\"1\" class=\"dataframe\">\n",
       "  <thead>\n",
       "    <tr style=\"text-align: right;\">\n",
       "      <th></th>\n",
       "      <th>experiment</th>\n",
       "      <th>grp</th>\n",
       "      <th>CR</th>\n",
       "      <th>ARPAU</th>\n",
       "      <th>ARPPU</th>\n",
       "      <th>median_rev</th>\n",
       "    </tr>\n",
       "  </thead>\n",
       "  <tbody>\n",
       "    <tr>\n",
       "      <th>0</th>\n",
       "      <td>previous</td>\n",
       "      <td>A</td>\n",
       "      <td>6.84</td>\n",
       "      <td>58.88</td>\n",
       "      <td>860.71</td>\n",
       "      <td>690.0</td>\n",
       "    </tr>\n",
       "    <tr>\n",
       "      <th>1</th>\n",
       "      <td>previous</td>\n",
       "      <td>B</td>\n",
       "      <td>6.26</td>\n",
       "      <td>69.34</td>\n",
       "      <td>1107.00</td>\n",
       "      <td>880.0</td>\n",
       "    </tr>\n",
       "    <tr>\n",
       "      <th>2</th>\n",
       "      <td>current</td>\n",
       "      <td>A</td>\n",
       "      <td>6.83</td>\n",
       "      <td>58.77</td>\n",
       "      <td>860.71</td>\n",
       "      <td>690.0</td>\n",
       "    </tr>\n",
       "    <tr>\n",
       "      <th>3</th>\n",
       "      <td>current</td>\n",
       "      <td>B</td>\n",
       "      <td>6.27</td>\n",
       "      <td>69.51</td>\n",
       "      <td>1108.82</td>\n",
       "      <td>935.0</td>\n",
       "    </tr>\n",
       "  </tbody>\n",
       "</table>\n",
       "</div>"
      ],
      "text/plain": [
       "  experiment grp    CR  ARPAU    ARPPU  median_rev\n",
       "0   previous   A  6.84  58.88   860.71       690.0\n",
       "1   previous   B  6.26  69.34  1107.00       880.0\n",
       "2    current   A  6.83  58.77   860.71       690.0\n",
       "3    current   B  6.27  69.51  1108.82       935.0"
      ]
     },
     "execution_count": 55,
     "metadata": {},
     "output_type": "execute_result"
    }
   ],
   "source": [
    "result['metrics_by_group']"
   ]
  },
  {
   "cell_type": "code",
   "execution_count": 56,
   "metadata": {},
   "outputs": [
    {
     "data": {
      "text/html": [
       "<div>\n",
       "<style scoped>\n",
       "    .dataframe tbody tr th:only-of-type {\n",
       "        vertical-align: middle;\n",
       "    }\n",
       "\n",
       "    .dataframe tbody tr th {\n",
       "        vertical-align: top;\n",
       "    }\n",
       "\n",
       "    .dataframe thead th {\n",
       "        text-align: right;\n",
       "    }\n",
       "</style>\n",
       "<table border=\"1\" class=\"dataframe\">\n",
       "  <thead>\n",
       "    <tr style=\"text-align: right;\">\n",
       "      <th></th>\n",
       "      <th>experiment</th>\n",
       "      <th>CR</th>\n",
       "      <th>ARPAU</th>\n",
       "      <th>ARPPU</th>\n",
       "      <th>median_rev</th>\n",
       "      <th>CR_p_value</th>\n",
       "      <th>ARPPU_p_value</th>\n",
       "      <th>median_p_value</th>\n",
       "    </tr>\n",
       "  </thead>\n",
       "  <tbody>\n",
       "    <tr>\n",
       "      <th>0</th>\n",
       "      <td>previous</td>\n",
       "      <td>-8.48</td>\n",
       "      <td>17.76</td>\n",
       "      <td>28.61</td>\n",
       "      <td>27.54</td>\n",
       "      <td>NaN</td>\n",
       "      <td>NaN</td>\n",
       "      <td>NaN</td>\n",
       "    </tr>\n",
       "    <tr>\n",
       "      <th>1</th>\n",
       "      <td>current</td>\n",
       "      <td>-8.20</td>\n",
       "      <td>18.27</td>\n",
       "      <td>28.83</td>\n",
       "      <td>35.51</td>\n",
       "      <td>0.446443</td>\n",
       "      <td>0.0</td>\n",
       "      <td>0.0</td>\n",
       "    </tr>\n",
       "  </tbody>\n",
       "</table>\n",
       "</div>"
      ],
      "text/plain": [
       "  experiment    CR  ARPAU  ARPPU  median_rev  CR_p_value  ARPPU_p_value  \\\n",
       "0   previous -8.48  17.76  28.61       27.54         NaN            NaN   \n",
       "1    current -8.20  18.27  28.83       35.51    0.446443            0.0   \n",
       "\n",
       "   median_p_value  \n",
       "0             NaN  \n",
       "1             0.0  "
      ]
     },
     "execution_count": 56,
     "metadata": {},
     "output_type": "execute_result"
    }
   ],
   "source": [
    "result['ratio_and_p_value']"
   ]
  },
  {
   "cell_type": "markdown",
   "metadata": {},
   "source": [
    "### 2. Функция визуализации метрик"
   ]
  },
  {
   "cell_type": "code",
   "execution_count": 57,
   "metadata": {},
   "outputs": [],
   "source": [
    "# Функция принимает новые метрики и строит их визуализаци.\n",
    "\n",
    "def get_viz(metrics):\n",
    "    data_viz = metrics['metrics_by_group'].query('experiment == \"current\"')\n",
    "    \n",
    "    plt.figure(figsize=(20, 15))\n",
    "    # график конверсии активного пользователя в покупку\n",
    "    plt.subplot(2, 2, 1)\n",
    "    ax = sns.barplot(x='grp', y='CR', data=data_viz)\n",
    "    ax.axes.set_title('Конверсия активного пользователя в покупку', fontsize=16)\n",
    "    ax.set_xlabel('Group', fontsize=14)\n",
    "    ax.set_ylabel('CR, %', fontsize=14)\n",
    "    plt.xticks(fontsize=12)\n",
    "    plt.yticks(fontsize=12)\n",
    "    \n",
    "    # график ARPAU\n",
    "    plt.subplot(2, 2, 2)\n",
    "    ax = sns.barplot(x='grp', y='ARPAU', data=data_viz)\n",
    "    ax.axes.set_title('ARPAU', fontsize=16)\n",
    "    ax.set_xlabel('Group', fontsize=14)\n",
    "    ax.set_ylabel('Revenue', fontsize=14)\n",
    "    plt.xticks(fontsize=12)\n",
    "    plt.yticks(fontsize=12)\n",
    "    \n",
    "    # график ARPPU\n",
    "    plt.subplot(2, 2, 3)\n",
    "    ax = sns.barplot(x='grp', y='ARPPU', data=data_viz)\n",
    "    ax.axes.set_title('ARPPU', fontsize=16)\n",
    "    ax.set_xlabel('Group', fontsize=14)\n",
    "    ax.set_ylabel('Revenue', fontsize=14)\n",
    "    plt.xticks(fontsize=12)\n",
    "    plt.yticks(fontsize=12)    \n",
    "    \n",
    "    # график медианного чека\n",
    "    plt.subplot(2, 2, 4)\n",
    "    ax = sns.barplot(x='grp', y='median_rev', data=data_viz)\n",
    "    ax.axes.set_title('Медианный чек', fontsize=16)\n",
    "    ax.set_xlabel('Group', fontsize=14)\n",
    "    ax.set_ylabel('Revenue', fontsize=14)\n",
    "    plt.xticks(fontsize=12)\n",
    "    plt.yticks(fontsize=12)    "
   ]
  },
  {
   "cell_type": "code",
   "execution_count": 58,
   "metadata": {},
   "outputs": [
    {
     "data": {
      "application/vnd.jupyter.widget-view+json": {
       "model_id": "104f525c49f6489cbf3122b8788d5480",
       "version_major": 2,
       "version_minor": 0
      },
      "text/plain": [
       "HBox(children=(FloatProgress(value=0.0, max=1000.0), HTML(value='')))"
      ]
     },
     "metadata": {},
     "output_type": "display_data"
    },
    {
     "name": "stdout",
     "output_type": "stream",
     "text": [
      "\n"
     ]
    },
    {
     "data": {
      "application/vnd.jupyter.widget-view+json": {
       "model_id": "39cae58540164fbf860229e1c5f52b2d",
       "version_major": 2,
       "version_minor": 0
      },
      "text/plain": [
       "HBox(children=(FloatProgress(value=0.0, max=1000.0), HTML(value='')))"
      ]
     },
     "metadata": {},
     "output_type": "display_data"
    },
    {
     "name": "stdout",
     "output_type": "stream",
     "text": [
      "\n"
     ]
    },
    {
     "data": {
      "image/png": "[encoded data removed]",
      "text/plain": [
       "<Figure size 1440x1080 with 4 Axes>"
      ]
     },
     "metadata": {},
     "output_type": "display_data"
    }
   ],
   "source": [
    "get_viz(new_data_metrics(url_groups_add))"
   ]
  }
 ],
 "metadata": {
  "kernelspec": {
   "display_name": "Python 3",
   "language": "python",
   "name": "python3"
  },
  "language_info": {
   "codemirror_mode": {
    "name": "ipython",
    "version": 3
   },
   "file_extension": ".py",
   "mimetype": "text/x-python",
   "name": "python",
   "nbconvert_exporter": "python",
   "pygments_lexer": "ipython3",
   "version": "3.7.3"
  }
 },
 "nbformat": 4,
 "nbformat_minor": 4
}
